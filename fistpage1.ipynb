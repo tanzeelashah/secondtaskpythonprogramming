{
 "cells": [
  {
   "cell_type": "code",
   "execution_count": 1,
   "metadata": {},
   "outputs": [
    {
     "name": "stdout",
     "output_type": "stream",
     "text": [
      "your  are finally fail\n"
     ]
    }
   ],
   "source": [
    "#question1  input student marks and output grades:\n",
    "marks=int(input(\"enter your marks\"))\n",
    "if marks == 90:\n",
    "    print(\"you get grade A\")\n",
    "elif marks ==80 and marks<=89:\n",
    "    print(\"you get grade B\")\n",
    "elif marks ==70 and  marks <=79:\n",
    "    print(\"you get  grade C \") \n",
    "elif marks<70:\n",
    "    print(\"you get grade  F\")\n",
    "else:\n",
    "    print(\"your  are finally fail\")      \n"
   ]
  },
  {
   "cell_type": "code",
   "execution_count": 17,
   "metadata": {},
   "outputs": [
    {
     "name": "stdout",
     "output_type": "stream",
     "text": [
      "it is not leap year\n"
     ]
    }
   ],
   "source": [
    "#question2 check if given year is leap year.\n",
    "#it is not divisable by 100 it is not centuray year and if it is divsible by 4 it is leap year\n",
    "#if it is divisble by 100 as a century year,and centuray year divisible by 400 it is leap year\n",
    "year=int(input(\"enter  year\"))\n",
    "if year %4 == 0 and year!=100:\n",
    "    print(\"it is leap year:\",year)\n",
    "elif year%400 == 0 and year %100 ==0:\n",
    "    print(\"it is leaf year:\" ,year)\n",
    "else:\n",
    "    print(\"it is not leap year\")               \n",
    "\n",
    "\n"
   ]
  },
  {
   "cell_type": "code",
   "execution_count": 19,
   "metadata": {},
   "outputs": [
    {
     "name": "stdout",
     "output_type": "stream",
     "text": [
      "a is not greatest value: \n",
      "b is not greatest value: \n",
      "c is greatest value: 10\n"
     ]
    }
   ],
   "source": [
    "# question3 take input find largest number\n",
    "a=int(input(\"enter value a:\"))\n",
    "b=int(input(\"enter value b:\"))\n",
    "c=int(input(\"enter value c:\"))\n",
    "if a>b and a>c:\n",
    "    print(\"a is greatest value:\",a)\n",
    "else:\n",
    "    print(\"a is not greatest value: \")\n",
    "if b>a and b>c:\n",
    "    print(\"b is greatest value:\",b)\n",
    "else:\n",
    "    print(\"b is not greatest value: \")\n",
    "if c>a and c>b:\n",
    "    print(\"c is greatest value:\",c)\n",
    "else:\n",
    "    print(\"c is not greatest value: \")\n",
    "\n",
    "\n",
    "\n",
    "\n",
    "\n"
   ]
  },
  {
   "cell_type": "code",
   "execution_count": 34,
   "metadata": {},
   "outputs": [
    {
     "name": "stdout",
     "output_type": "stream",
     "text": [
      "10 - 5 = 5\n"
     ]
    }
   ],
   "source": [
    "# question 4 make simple calculator\n",
    "num1=int(input(\"enter number 1:\"))\n",
    "operater=input(\"enter operator(+,*,%,/)\")\n",
    "num2=int(input(\"enter number 2:\"))\n",
    "if operater == '+':\n",
    "    add = num1 + num2\n",
    "    print(num1,\"+\" ,num2,\"=\",add)\n",
    "else:\n",
    "    if  operater == '-':\n",
    "        subtract = num1 - num2\n",
    "        print(num1,\"-\" ,num2,\"=\",subtract)\n",
    "    else:\n",
    "        if operater == '*':\n",
    "            multiplay = num1 * num2\n",
    "            print(num1,\"*\",num2,'=',multiplay)\n",
    "        else:\n",
    "            if operater == '/':\n",
    "                div=num1/num2\n",
    "                print(num1,\"/\",num2 ,'=',div)\n",
    "\n",
    "\n",
    "\n",
    "\n",
    "\n",
    "\n"
   ]
  },
  {
   "cell_type": "code",
   "execution_count": 33,
   "metadata": {},
   "outputs": [
    {
     "name": "stdout",
     "output_type": "stream",
     "text": [
      "wait\n"
     ]
    }
   ],
   "source": [
    "#question 5  \n",
    "color= input(\"enter color(red,green ,yellow)\")\n",
    "if color == 'red':\n",
    "    print(\"stop\")\n",
    "elif color == 'green':\n",
    "    print(\"wait\")\n",
    "else:\n",
    "    print(\"go\")"
   ]
  }
 ],
 "metadata": {
  "kernelspec": {
   "display_name": "base",
   "language": "python",
   "name": "python3"
  },
  "language_info": {
   "codemirror_mode": {
    "name": "ipython",
    "version": 3
   },
   "file_extension": ".py",
   "mimetype": "text/x-python",
   "name": "python",
   "nbconvert_exporter": "python",
   "pygments_lexer": "ipython3",
   "version": "3.12.7"
  }
 },
 "nbformat": 4,
 "nbformat_minor": 2
}
