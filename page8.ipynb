{
 "cells": [
  {
   "cell_type": "code",
   "execution_count": null,
   "metadata": {},
   "outputs": [],
   "source": [
    "# question 1: studend gradesbook\n",
    "d={\"name\":\"tanzeela\" ,\"grade\":\"A\"}\n",
    "d[\"name\"]"
   ]
  },
  {
   "cell_type": "code",
   "execution_count": 2,
   "metadata": {},
   "outputs": [
    {
     "name": "stdout",
     "output_type": "stream",
     "text": [
      "johny = 2\n",
      "yes = 1\n",
      "papa = 1\n"
     ]
    }
   ],
   "source": [
    "#question2: write a program to count the frequecny of each word in a paragraph.\n",
    "paragrapgh = input(\"enter your text :\")\n",
    "words =  paragrapgh . split()\n",
    "counter = {}\n",
    "for word in words:\n",
    "    if word in counter:\n",
    "        counter[word] = counter[word] +1\n",
    "    \n",
    "    else:\n",
    "        counter[word] =  1\n",
    "#print(counter) \n",
    "#second way \n",
    "for key,value in counter.items():\n",
    "    print(key,\"=\",value)      \n",
    "    \n",
    "\n",
    "    "
   ]
  },
  {
   "cell_type": "code",
   "execution_count": null,
   "metadata": {},
   "outputs": [
    {
     "name": "stdout",
     "output_type": "stream",
     "text": [
      "{'h': 1, 'e': 3, 'l': 3, 'o': 1, ' ': 1, 't': 1, 'a': 2, 'n': 1, 'z': 1}\n"
     ]
    }
   ],
   "source": [
    "#question3   count charcter frequency \n",
    "words =  input(\"enter your character:\")\n",
    "counter = {}\n",
    "for word in words:\n",
    "    if word in counter:\n",
    "        counter[word] = counter[word] +1\n",
    "    \n",
    "    else:\n",
    "        counter[word] =  1\n",
    "print(counter) \n"
   ]
  },
  {
   "cell_type": "code",
   "execution_count": null,
   "metadata": {},
   "outputs": [
    {
     "name": "stdout",
     "output_type": "stream",
     "text": [
      "{'a': 400, 'b': 400, 'c': 300, 'd': 400}\n"
     ]
    }
   ],
   "source": [
    "#question 4: merg two dictionaries and sum\n",
    "d1 = {\"a\":100,\"b\":200,\"c\":300}\n",
    "d2 = {\"a\":300,\"b\":200,\"d\":400}\n",
    "d3 = {}\n",
    "d3.update(d1)\n",
    "#print(d3)\n",
    "d3.update(d2)\n",
    "#print(d3)\n",
    "for i ,j in d1.items():\n",
    "    for x,y in d2.items():\n",
    "        if i==x:\n",
    "            d3[i] = j+y\n",
    "print(d3)            \n",
    "\n",
    "\n",
    "\n"
   ]
  },
  {
   "cell_type": "code",
   "execution_count": null,
   "metadata": {},
   "outputs": [],
   "source": [
    "#question5:\n",
    "d= {\"product1\":\"300\",\"product2\":\"400\"}\n",
    "max(d)\n"
   ]
  }
 ],
 "metadata": {
  "kernelspec": {
   "display_name": "base",
   "language": "python",
   "name": "python3"
  },
  "language_info": {
   "codemirror_mode": {
    "name": "ipython",
    "version": 3
   },
   "file_extension": ".py",
   "mimetype": "text/x-python",
   "name": "python",
   "nbconvert_exporter": "python",
   "pygments_lexer": "ipython3",
   "version": "3.12.7"
  }
 },
 "nbformat": 4,
 "nbformat_minor": 2
}
