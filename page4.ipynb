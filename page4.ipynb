{
 "cells": [
  {
   "cell_type": "code",
   "execution_count": 9,
   "metadata": {},
   "outputs": [
    {
     "data": {
      "text/plain": [
       "1"
      ]
     },
     "execution_count": 9,
     "metadata": {},
     "output_type": "execute_result"
    }
   ],
   "source": [
    "#question 1 count the frequency of each string \n",
    "\"this is string\".count(\"is\")\n",
    "\"this is string\".count(\"this\")"
   ]
  },
  {
   "cell_type": "code",
   "execution_count": null,
   "metadata": {},
   "outputs": [
    {
     "name": "stdout",
     "output_type": "stream",
     "text": [
      "it is palindrome: madam\n"
     ]
    }
   ],
   "source": [
    "#question 2 check given string is plaindrome\n",
    "str= input(\"enter a string:\")\n",
    "if str == str[::-1]:\n",
    "    print(\"it is palindrome:\",str)\n",
    "else:\n",
    "    print(\"it is not palindrome\")    "
   ]
  },
  {
   "cell_type": "code",
   "execution_count": 10,
   "metadata": {},
   "outputs": [
    {
     "name": "stdout",
     "output_type": "stream",
     "text": [
      "consonant value: 2\n",
      "vowel value: 3\n"
     ]
    }
   ],
   "source": [
    "#question 3  \n",
    "count_consonant = 0\n",
    "count_vowel = 0\n",
    "str=input(\"enter a string\")\n",
    "vowel = \"aeiouAEIOU\"\n",
    "for i in  str:\n",
    "    if i in vowel:\n",
    "        count_vowel += 1\n",
    "    else:\n",
    "        count_consonant += 1\n",
    "print(\"consonant value:\",count_vowel)\n",
    "print(\"vowel value:\",count_consonant)            \n"
   ]
  },
  {
   "cell_type": "code",
   "execution_count": 4,
   "metadata": {},
   "outputs": [
    {
     "name": "stdout",
     "output_type": "stream",
     "text": [
      " helloworld\n"
     ]
    }
   ],
   "source": [
    "#question 4  remove a punctuation \n",
    "punc = \" !\"\n",
    "string = input(\"enter a string\")\n",
    "emptystring = \" \"\n",
    "for i in string:\n",
    "    if i not in punc:\n",
    "        emptystring += i\n",
    "print(emptystring)        \n"
   ]
  },
  {
   "cell_type": "code",
   "execution_count": null,
   "metadata": {},
   "outputs": [
    {
     "data": {
      "text/plain": [
       "'c'"
      ]
     },
     "execution_count": 6,
     "metadata": {},
     "output_type": "execute_result"
    }
   ],
   "source": [
    "#question 5 largest word\n",
    "a= \" a,B,c\"\n",
    "max(a)"
   ]
  }
 ],
 "metadata": {
  "kernelspec": {
   "display_name": "base",
   "language": "python",
   "name": "python3"
  },
  "language_info": {
   "codemirror_mode": {
    "name": "ipython",
    "version": 3
   },
   "file_extension": ".py",
   "mimetype": "text/x-python",
   "name": "python",
   "nbconvert_exporter": "python",
   "pygments_lexer": "ipython3",
   "version": "3.12.7"
  }
 },
 "nbformat": 4,
 "nbformat_minor": 2
}
