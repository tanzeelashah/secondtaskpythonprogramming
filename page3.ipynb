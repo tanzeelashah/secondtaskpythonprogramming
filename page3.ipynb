{
 "cells": [
  {
   "cell_type": "code",
   "execution_count": 14,
   "metadata": {},
   "outputs": [
    {
     "name": "stdout",
     "output_type": "stream",
     "text": [
      "average: 25.0\n"
     ]
    }
   ],
   "source": [
    "# built function \n",
    "#question 1  \n",
    "min([1,2,3,4,5])\n",
    "max([1,2,3,4,5])\n",
    "sum([1,2,3,4,5])\n",
    "# average function\n",
    "num = [10,20,30,40]\n",
    "total = sum(num)\n",
    "average = total/len(num)\n",
    "print(\"average:\",average)\n",
    "\n"
   ]
  },
  {
   "cell_type": "code",
   "execution_count": null,
   "metadata": {},
   "outputs": [
    {
     "data": {
      "text/plain": [
       "3.13"
      ]
     },
     "execution_count": 1,
     "metadata": {},
     "output_type": "execute_result"
    }
   ],
   "source": [
    "#question2 float using round\n",
    "c=3.1345455645465\n",
    "round(c,2)\n"
   ]
  },
  {
   "cell_type": "code",
   "execution_count": null,
   "metadata": {},
   "outputs": [
    {
     "data": {
      "text/plain": [
       "98"
      ]
     },
     "execution_count": 2,
     "metadata": {},
     "output_type": "execute_result"
    }
   ],
   "source": [
    " #question3  ASSCI CHARACTER FIND\n",
    "char = 'b'\n",
    "ord(char)"
   ]
  },
  {
   "cell_type": "code",
   "execution_count": null,
   "metadata": {},
   "outputs": [
    {
     "name": "stdout",
     "output_type": "stream",
     "text": [
      "the number of lowercase character: 6\n",
      "the number of uppercase character: 8\n"
     ]
    }
   ],
   "source": [
    "#question 4\n",
    "str = \"ThIs iS StriNG\"\n",
    "lower= 0\n",
    "upper = 0\n",
    "for i in str:\n",
    "    if(i.islower()):\n",
    "        lower+=1\n",
    "    else:\n",
    "        upper+=1\n",
    "print(\"the number of lowercase character:\",lower) \n",
    "print(\"the number of uppercase character:\",upper)  \n",
    "     \n",
    "        \n",
    "        \n",
    "        \n",
    "\n",
    "        \n",
    "\n",
    "\n",
    "\n"
   ]
  }
 ],
 "metadata": {
  "kernelspec": {
   "display_name": "base",
   "language": "python",
   "name": "python3"
  },
  "language_info": {
   "codemirror_mode": {
    "name": "ipython",
    "version": 3
   },
   "file_extension": ".py",
   "mimetype": "text/x-python",
   "name": "python",
   "nbconvert_exporter": "python",
   "pygments_lexer": "ipython3",
   "version": "3.12.7"
  }
 },
 "nbformat": 4,
 "nbformat_minor": 2
}
