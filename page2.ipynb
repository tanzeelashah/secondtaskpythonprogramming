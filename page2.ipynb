{
 "cells": [
  {
   "cell_type": "code",
   "execution_count": 2,
   "metadata": {},
   "outputs": [
    {
     "name": "stdout",
     "output_type": "stream",
     "text": [
      "the sum is: 1\n",
      "the sum is: 3\n",
      "the sum is: 6\n",
      "the sum is: 10\n",
      "the sum is: 15\n",
      "the sum is: 21\n",
      "the sum is: 28\n",
      "the sum is: 36\n",
      "the sum is: 45\n",
      "the sum is: 55\n"
     ]
    }
   ],
   "source": [
    "#queation sum of natural number\n",
    "sum=0\n",
    "for  i in range (1,11):\n",
    "    sum = sum +i\n",
    "    print(\"the sum is:\",sum)"
   ]
  },
  {
   "cell_type": "code",
   "execution_count": 7,
   "metadata": {},
   "outputs": [
    {
     "name": "stdout",
     "output_type": "stream",
     "text": [
      "the factorial of 5 is 1\n",
      "the factorial of 5 is 2\n",
      "the factorial of 5 is 6\n",
      "the factorial of 5 is 24\n",
      "the factorial of 5 is 120\n"
     ]
    }
   ],
   "source": [
    "#question 2 factorial number\n",
    "factorial = 1\n",
    "num = int(input(\"enter a number\"))\n",
    "for i in range(1,num+1):\n",
    "    factorial  = factorial*i\n",
    "    print(\"the factorial of\", num,\"is\",factorial)\n",
    "    "
   ]
  },
  {
   "cell_type": "code",
   "execution_count": 10,
   "metadata": {},
   "outputs": [
    {
     "name": "stdout",
     "output_type": "stream",
     "text": [
      "faboncii series 0 1 1235\n"
     ]
    }
   ],
   "source": [
    "#question3 faboncci series\n",
    "num = 5\n",
    "n1=0\n",
    "n2 = 1\n",
    "print(\"faboncii series\",n1,n2,end =\" \")\n",
    "for i in range(2 ,  num+1):\n",
    "    n3=n1+n2\n",
    "    n1=n2\n",
    "    n2=n3\n",
    "    print(n3,end=\"\")\n",
    "print()    \n"
   ]
  },
  {
   "cell_type": "code",
   "execution_count": null,
   "metadata": {},
   "outputs": [
    {
     "name": "stdout",
     "output_type": "stream",
     "text": [
      "10 * 1 = 10\n",
      "10 * 2 = 20\n",
      "10 * 3 = 30\n",
      "10 * 4 = 40\n",
      "10 * 5 = 50\n",
      "10 * 6 = 60\n",
      "10 * 7 = 70\n",
      "10 * 8 = 80\n",
      "10 * 9 = 90\n",
      "10 * 10 = 100\n"
     ]
    }
   ],
   "source": [
    "#  question 4  multipliction table\n",
    "num= int(input(\"enter a number\"))\n",
    "for i in range(1,11):\n",
    "    print(num,\"*\",i,\"=\",i*num)"
   ]
  },
  {
   "cell_type": "code",
   "execution_count": 1,
   "metadata": {},
   "outputs": [
    {
     "name": "stdout",
     "output_type": "stream",
     "text": [
      "2 3 5 7 11 13 17 19 23 29 31 37 41 43 47 53 59 61 67 71 73 79 83 89 97 "
     ]
    }
   ],
   "source": [
    "#question 5 prime number \n",
    "min = 1\n",
    "max = 100\n",
    "for i in range(min,max+1):\n",
    "    count = 0\n",
    "    for j in range(1,i+1):\n",
    "        if i%j == 0:\n",
    "            count = count+1\n",
    "    if count == 2:\n",
    "        print(i,end = \" \")        "
   ]
  }
 ],
 "metadata": {
  "kernelspec": {
   "display_name": "base",
   "language": "python",
   "name": "python3"
  },
  "language_info": {
   "codemirror_mode": {
    "name": "ipython",
    "version": 3
   },
   "file_extension": ".py",
   "mimetype": "text/x-python",
   "name": "python",
   "nbconvert_exporter": "python",
   "pygments_lexer": "ipython3",
   "version": "3.12.7"
  }
 },
 "nbformat": 4,
 "nbformat_minor": 2
}
