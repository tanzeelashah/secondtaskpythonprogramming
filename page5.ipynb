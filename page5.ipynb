{
 "cells": [
  {
   "cell_type": "code",
   "execution_count": 15,
   "metadata": {},
   "outputs": [
    {
     "name": "stdout",
     "output_type": "stream",
     "text": [
      "[5, 4, 3, 2, 1]\n"
     ]
    }
   ],
   "source": [
    "#question  reverselist without reverse[::-1]\n",
    "L = [1,2,3,4,5]\n",
    "L.sort(reverse=True)\n",
    "print(L)"
   ]
  },
  {
   "cell_type": "code",
   "execution_count": 19,
   "metadata": {},
   "outputs": [
    {
     "name": "stdout",
     "output_type": "stream",
     "text": [
      "[1, 2, 3]\n"
     ]
    }
   ],
   "source": [
    "#question2  remove all duplicate from a list\n",
    "L1 = [1,2,3,1,1,2,2,3]\n",
    "L2=[]\n",
    "for i in L1:\n",
    "    if i not in L2:\n",
    "       L2.append(i) \n",
    "print(L2)       "
   ]
  },
  {
   "cell_type": "code",
   "execution_count": 20,
   "metadata": {},
   "outputs": [
    {
     "data": {
      "text/plain": [
       "[1, 2, 3, 4, 5, 6, 7, 8]"
      ]
     },
     "execution_count": 20,
     "metadata": {},
     "output_type": "execute_result"
    }
   ],
   "source": [
    "#question3  merg and sort list\n",
    "L1=[1,2,3,4,5]\n",
    "L2=[6,7,8]\n",
    "L1+L2"
   ]
  },
  {
   "cell_type": "code",
   "execution_count": null,
   "metadata": {},
   "outputs": [],
   "source": []
  },
  {
   "cell_type": "code",
   "execution_count": null,
   "metadata": {},
   "outputs": [
    {
     "data": {
      "text/plain": [
       "2"
      ]
     },
     "execution_count": 21,
     "metadata": {},
     "output_type": "execute_result"
    }
   ],
   "source": [
    "#QUESTION 4 find frequecy of each element \n",
    "list=[10,2,4,10,3,4]\n",
    "list.count(10)"
   ]
  },
  {
   "cell_type": "code",
   "execution_count": 2,
   "metadata": {},
   "outputs": [
    {
     "name": "stdout",
     "output_type": "stream",
     "text": [
      "My list [10, 5, 9]\n",
      "sorted list [5, 9, 10]\n",
      "the mininmum num: 5\n",
      "fist largest  num: 10\n",
      "the second larest num: 9\n"
     ]
    }
   ],
   "source": [
    "#question 5 find the second largest element in the list.\n",
    "n= int(input(\"enter the range of list:\"))\n",
    "L=[]\n",
    "for i in range(n):\n",
    "    ele=int(input(\"enter number:\"))\n",
    "    L.append(ele)\n",
    "print(\"My list\",L)\n",
    "L.sort()\n",
    "print(\"sorted list\",L)\n",
    "minimum= L[0]\n",
    "print(\"the mininmum num:\",minimum)\n",
    "maximum1= L[-1]\n",
    "print(\"fist largest  num:\",maximum1)\n",
    "maximum2= L[-2]\n",
    "print(\"the second larest num:\",maximum2)\n",
    "\n"
   ]
  }
 ],
 "metadata": {
  "kernelspec": {
   "display_name": "base",
   "language": "python",
   "name": "python3"
  },
  "language_info": {
   "codemirror_mode": {
    "name": "ipython",
    "version": 3
   },
   "file_extension": ".py",
   "mimetype": "text/x-python",
   "name": "python",
   "nbconvert_exporter": "python",
   "pygments_lexer": "ipython3",
   "version": "3.12.7"
  }
 },
 "nbformat": 4,
 "nbformat_minor": 2
}
